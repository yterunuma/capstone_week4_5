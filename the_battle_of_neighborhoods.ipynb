{
 "cells": [
  {
   "cell_type": "markdown",
   "id": "47ce399e-cca5-45fa-8779-f566d1fcb343",
   "metadata": {},
   "source": [
    "# The Battle of the Neighborhoods - Week 1\n",
    "\n",
    "### Introduction & Business Problem :\n",
    "### Problem Background:\n",
    "\n",
    "The City of New York is the center of culture, finance, and technology of the world. Thanks to English, the most spoken language, and the potential of its business, many comppanies want to open their business there. Nowadays, New York City is home to more than 8 million people. The city is continuously growing with the growing immigrants and tourists into the United States. \n",
    "\n",
    "\n",
    "### Business Problem\n",
    "\n",
    "- A client wants to open a Japanese restaurant in NYC\n",
    "- The client is worring about high competion in NYC\n",
    "- Before opening his restraunt, he needs recommendation where he should open his restaurant\n",
    "- The recommendation should be data visualized with data analysis\n",
    "\n",
    "### Target Audience\n",
    "\n",
    "People in USA are suffered from obesity and unhealty food habit. The needs of Japanese foods as healthy cusine have been rapidly increasing recently. Although there are restaurants like Chinese, French, Indian, and Italian, Japanese restaurants differ from them. Opening Japanese restaurants aim at attracting people who want to reduce their weights with diet and those who don't like meat. Fresh fish and vegetables are very attractive for many American.\n",
    "\n",
    "### Data\n",
    "\n",
    "#### To solve the problem, we need the following data:\n",
    "\n",
    "- New York City data containing neighborhoods and boroughs\n",
    "- Latitude and longitude to cordinate their neighborhoods. These are required to plot map and venue data\n",
    "- Venue data related with restaurants. It tells us potential competitors and synagy effects.\n",
    "- Population data and demographics in NYC to estimate potential market\n",
    "- Cuisine of NYC\n",
    "\n",
    "#### Data Souce:\n",
    "\n",
    "New York CIty data containing the neighborhoods and boroughs will be obtained from the following open data sciyce,\n",
    "\n",
    "https://cocl.us/new_york_dataset\n",
    "\n",
    "https://geo.nyu.edu/catalog/nyu_2451_34572\n",
    "\n",
    "The method using for data analysis is web scrapping with Foursquare API and map visualization (Folium). This enables us to explore data and make data analysis."
   ]
  },
  {
   "cell_type": "code",
   "execution_count": null,
   "id": "7dadfa41-772d-43e7-b192-e4cc99944ddd",
   "metadata": {},
   "outputs": [],
   "source": []
  }
 ],
 "metadata": {
  "kernelspec": {
   "display_name": "Python",
   "language": "python",
   "name": "conda-env-python-py"
  },
  "language_info": {
   "codemirror_mode": {
    "name": "ipython",
    "version": 3
   },
   "file_extension": ".py",
   "mimetype": "text/x-python",
   "name": "python",
   "nbconvert_exporter": "python",
   "pygments_lexer": "ipython3",
   "version": "3.6.13"
  }
 },
 "nbformat": 4,
 "nbformat_minor": 5
}
